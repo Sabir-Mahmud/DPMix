{
 "cells": [
  {
   "cell_type": "code",
   "outputs": [
    {
     "name": "stdout",
     "output_type": "stream",
     "text": [
      "Number of 0s in the MNIST training dataset: 5923\n",
      "Number of 1s in the MNIST training dataset: 6742\n",
      "Number of 2s in the MNIST training dataset: 5958\n",
      "Number of 3s in the MNIST training dataset: 6131\n",
      "Number of 4s in the MNIST training dataset: 5842\n",
      "Number of 5s in the MNIST training dataset: 5421\n",
      "Number of 6s in the MNIST training dataset: 5918\n",
      "Number of 7s in the MNIST training dataset: 6265\n",
      "Number of 8s in the MNIST training dataset: 5851\n",
      "Number of 9s in the MNIST training dataset: 5949\n"
     ]
    }
   ],
   "source": [
    "import pandas as pd\n",
    "import numpy as np\n",
    "\n",
    "# Load the CSV file containing MNIST training data\n",
    "train_data = pd.read_csv('mnist_train.csv')\n",
    "\n",
    "# The first column is the label (digit), and the rest are pixel values\n",
    "train_labels = train_data.iloc[:, 0].values  # First column (labels)\n",
    "train_images = train_data.iloc[:, 1:].values  # All other columns (pixel values)\n",
    "\n",
    "# Count the occurrences of each digit in the training labels\n",
    "digit_counts = np.bincount(train_labels)\n",
    "\n",
    "# Print the number of images for each digit\n",
    "for i in range(10):\n",
    "    print(f\"Number of {i}s in the MNIST training dataset: {digit_counts[i]}\")\n"
   ],
   "metadata": {
    "collapsed": false,
    "ExecuteTime": {
     "end_time": "2024-12-01T15:51:54.796338Z",
     "start_time": "2024-12-01T15:51:53.241338Z"
    }
   },
   "id": "36ea68d79a005ebe",
   "execution_count": 1
  }
 ],
 "metadata": {
  "kernelspec": {
   "display_name": "Python 3",
   "language": "python",
   "name": "python3"
  },
  "language_info": {
   "codemirror_mode": {
    "name": "ipython",
    "version": 2
   },
   "file_extension": ".py",
   "mimetype": "text/x-python",
   "name": "python",
   "nbconvert_exporter": "python",
   "pygments_lexer": "ipython2",
   "version": "2.7.6"
  }
 },
 "nbformat": 4,
 "nbformat_minor": 5
}
