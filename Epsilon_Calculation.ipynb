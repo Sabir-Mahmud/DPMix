{
 "cells": [
  {
   "cell_type": "code",
   "execution_count": 3,
   "id": "initial_id",
   "metadata": {
    "collapsed": true,
    "ExecuteTime": {
     "end_time": "2025-03-07T08:34:35.718094Z",
     "start_time": "2025-03-07T08:34:34.126101Z"
    }
   },
   "outputs": [
    {
     "name": "stderr",
     "output_type": "stream",
     "text": [
      "C:\\Users\\User\\AppData\\Local\\Temp\\ipykernel_10272\\2386208106.py:22: RuntimeWarning: overflow encountered in exp\n",
      "  sum_B += (-1)**i * comb(l, i) * np.exp(i * (i - 1) * Delta2 / (2 * l**2))\n",
      "C:\\Users\\User\\AppData\\Local\\Temp\\ipykernel_10272\\2386208106.py:22: RuntimeWarning: invalid value encountered in scalar add\n",
      "  sum_B += (-1)**i * comb(l, i) * np.exp(i * (i - 1) * Delta2 / (2 * l**2))\n",
      "C:\\Users\\User\\AppData\\Local\\Temp\\ipykernel_10272\\2386208106.py:22: RuntimeWarning: overflow encountered in scalar multiply\n",
      "  sum_B += (-1)**i * comb(l, i) * np.exp(i * (i - 1) * Delta2 / (2 * l**2))\n"
     ]
    },
    {
     "name": "stdout",
     "output_type": "stream",
     "text": [
      "Calculated ε: 14.99703895832793\n"
     ]
    }
   ],
   "source": [
    "import numpy as np\n",
    "import math\n",
    "from scipy.special import comb\n",
    "from scipy.linalg import sqrtm\n",
    "\n",
    "# Parameters\n",
    "dx = 784  # MNIST dataset feature dimension\n",
    "dy = 10   # MNIST dataset label dimension (one-hot encoded)\n",
    "l = 128    # Mixture degree\n",
    "n = 60000 # Number of samples in the dtaset\n",
    "sigma_x = 0.1132 # Standard deviation for features (example value)\n",
    "sigma_y = sigma_x  # Standard deviation for labels (same as sigma_x)\n",
    "T = 10000  # Number of synthetic data points to generate\n",
    "\n",
    "# Sensitivity calculation\n",
    "Delta2 = (dx / sigma_x**2) + (dy / sigma_y**2)\n",
    "\n",
    "# Bernoulli polynomial B(l) calculation\n",
    "def B(l, Delta2):\n",
    "    sum_B = 0\n",
    "    for i in range(l + 1):\n",
    "        sum_B += (-1)**i * comb(l, i) * np.exp(i * (i - 1) * Delta2 / (2 * l**2))\n",
    "    return sum_B\n",
    "\n",
    "# G(alpha) calculation\n",
    "def G(alpha, l, n, Delta2):\n",
    "    sum_G = 0\n",
    "    for j in range(3, alpha + 1):\n",
    "        sum_G += (l / n)**j * comb(alpha, j) * math.sqrt(B(2 * (j // 2), Delta2) * B(2 * (j - j // 2), Delta2))\n",
    "    return sum_G\n",
    "\n",
    "# εα' calculation\n",
    "def epsilon_alpha_prime(alpha, l, n, Delta2):\n",
    "    min_term = min(4 * (np.exp(Delta2 / l**2) - 1), 2 * np.exp(Delta2 / l**2))\n",
    "    term1 = (l / n)**2 * comb(alpha, 2) * min_term\n",
    "    term2 = 4 * G(alpha, l, n, Delta2)\n",
    "    return (1 / (alpha - 1)) * np.log(1 + term1 + term2)\n",
    "\n",
    "# Final ε calculation\n",
    "def epsilon(T, l, n, Delta2, delta=1/n):\n",
    "    epsilons = []\n",
    "    for alpha in range(2, 101): # Varying alpha from 2 to 100\n",
    "        try:\n",
    "            epsilon_alpha = epsilon_alpha_prime(alpha, l, n, Delta2)\n",
    "            epsilon_total = T * epsilon_alpha + np.log(1 / delta) / (alpha - 1)\n",
    "            epsilons.append(epsilon_total)\n",
    "        except (OverflowError, ValueError):\n",
    "            break  # Stop if an error occurs to avoid instability\n",
    "    return min(epsilons)\n",
    "\n",
    "\n",
    "# Calculate ε\n",
    "epsilon_value = epsilon(T, l, n, Delta2)\n",
    "print(f\"Calculated ε: {epsilon_value}\")\n"
   ]
  },
  {
   "cell_type": "code",
   "outputs": [],
   "source": [],
   "metadata": {
    "collapsed": false,
    "ExecuteTime": {
     "end_time": "2025-03-07T08:34:35.734093Z",
     "start_time": "2025-03-07T08:34:35.719094Z"
    }
   },
   "id": "cf15ed2b50bd465d",
   "execution_count": 3
  }
 ],
 "metadata": {
  "kernelspec": {
   "display_name": "Python 3",
   "language": "python",
   "name": "python3"
  },
  "language_info": {
   "codemirror_mode": {
    "name": "ipython",
    "version": 2
   },
   "file_extension": ".py",
   "mimetype": "text/x-python",
   "name": "python",
   "nbconvert_exporter": "python",
   "pygments_lexer": "ipython2",
   "version": "2.7.6"
  }
 },
 "nbformat": 4,
 "nbformat_minor": 5
}
